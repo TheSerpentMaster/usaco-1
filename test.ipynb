{
 "cells": [
  {
   "cell_type": "markdown",
   "id": "75b49b00",
   "metadata": {},
   "source": [
    "This Python Notebook contains scripts that need to be tested from the USACO competition.\n",
    "\n",
    "*****\n",
    "CREATE NEW CODE SNIPPETS FROM THIS NOTE\n",
    "*****"
   ]
  },
  {
   "cell_type": "code",
   "execution_count": null,
   "id": "209ccf42",
   "metadata": {},
   "outputs": [],
   "source": [
    "# USACO 2020 January Bronze #3: Race"
   ]
  }
 ],
 "metadata": {
  "kernelspec": {
   "display_name": "Python 3",
   "language": "python",
   "name": "python3"
  },
  "language_info": {
   "codemirror_mode": {
    "name": "ipython",
    "version": 3
   },
   "file_extension": ".py",
   "mimetype": "text/x-python",
   "name": "python",
   "nbconvert_exporter": "python",
   "pygments_lexer": "ipython3",
   "version": "3.9.6"
  }
 },
 "nbformat": 4,
 "nbformat_minor": 5
}
