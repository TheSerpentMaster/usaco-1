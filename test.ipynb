{
 "cells": [
  {
   "cell_type": "markdown",
   "id": "75b49b00",
   "metadata": {
    "vscode": {
     "languageId": "powershell"
    }
   },
   "source": [
    "*****\n",
    "OWNER: Samuel Chen\n",
    "*****\n",
    "\n",
    "This Python Notebook contains scripts currently in testing.\n",
    "\n",
    "*****\n",
    "CREATE NEW CODE SNIPPETS FROM THIS NOTE\n",
    "*****\n",
    "SNIPPETS WILL BE DELETED 2 WEEKS AFTER CREATION ONCE FINISHED\n",
    "*****"
   ]
  },
  {
   "cell_type": "code",
   "execution_count": null,
   "id": "c0356093",
   "metadata": {},
   "outputs": [],
   "source": [
    "# USACO 2022 January Bronze #2: Cannonball\n",
    "\n",
    "N, S = input().split()\n",
    "\n",
    "N = int(N)\n",
    "S = int(S)\n",
    "\n",
    "line = {}\n",
    "\n",
    "for num in range(N):\n",
    "    q, v = input().split()\n",
    "    \n",
    "    q = int(q)\n",
    "    v = int(v)\n",
    "    \n",
    "    line[num] = [q, v]\n",
    "\n",
    "location = 0\n",
    "speed = 1\n",
    "\n",
    "while location >= 0 and location <= N:\n",
    "    pass"
   ]
  },
  {
   "cell_type": "code",
   "execution_count": null,
   "id": "fc75cd33",
   "metadata": {},
   "outputs": [],
   "source": [
    "# USACO 2022 February US Open Bronze #1: Photoshoot\n",
    "\n",
    "!**************************************!\n",
    "!**************************************!\n",
    "!**'Has been moved to 2025/081325.py'**!\n",
    "!*******'Finished: 2025 Aug. 7'********!\n",
    "!**************************************!\n",
    "!**************************************!"
   ]
  },
  {
   "cell_type": "code",
   "execution_count": null,
   "id": "7a69d5e8",
   "metadata": {},
   "outputs": [],
   "source": [
    "# USACO 2020 January Bronze #3: Race\n",
    "\n",
    "!**********************************************!\n",
    "!**********************************************!\n",
    "!**'Has been moved to 2025/Classwork/Race.py'**!\n",
    "!***********'Finished: 2025 Aug. 5'************!\n",
    "!**********************************************!\n",
    "!**********************************************!"
   ]
  }
 ],
 "metadata": {
  "kernelspec": {
   "display_name": "Python 3",
   "language": "python",
   "name": "python3"
  },
  "language_info": {
   "codemirror_mode": {
    "name": "ipython",
    "version": 3
   },
   "file_extension": ".py",
   "mimetype": "text/x-python",
   "name": "python",
   "nbconvert_exporter": "python",
   "pygments_lexer": "ipython3",
   "version": "3.9.6"
  }
 },
 "nbformat": 4,
 "nbformat_minor": 5
}
