{
 "cells": [
  {
   "cell_type": "markdown",
   "id": "75b49b00",
   "metadata": {},
   "source": [
    "This Python Notebook contains scripts that need to be tested from the USACO competition.\n",
    "\n",
    "*****\n",
    "CREATE NEW CODE SNIPPETS FROM THIS NOTE\n",
    "*****"
   ]
  },
  {
   "cell_type": "code",
   "execution_count": null,
   "id": "fc75cd33",
   "metadata": {},
   "outputs": [],
   "source": [
    "# USACO 2022 February US Open Bronze #1: Photoshoot\n",
    "\n"
   ]
  },
  {
   "cell_type": "code",
   "execution_count": null,
   "id": "7a69d5e8",
   "metadata": {},
   "outputs": [],
   "source": [
    "# USACO 2020 January Bronze #3: Race\n",
    "\n",
    "!******************************************!\n",
    "!******************************************!\n",
    "!'Has been moved to 2025/Classwork/Race.py'!\n",
    "!******************************************!\n",
    "!******************************************!"
   ]
  },
  {
   "cell_type": "code",
   "execution_count": null,
   "id": "79cf7740",
   "metadata": {},
   "outputs": [],
   "source": [
    "# USACO February 2022 Bronze #1: Sleeping in Class\n",
    "\n",
    "!*************************************!\n",
    "!*************************************!\n",
    "!'Has been moved to 2025/hw_052725.py'!\n",
    "!*************************************!\n",
    "!*************************************!"
   ]
  }
 ],
 "metadata": {
  "kernelspec": {
   "display_name": "Python 3",
   "language": "python",
   "name": "python3"
  },
  "language_info": {
   "codemirror_mode": {
    "name": "ipython",
    "version": 3
   },
   "file_extension": ".py",
   "mimetype": "text/x-python",
   "name": "python",
   "nbconvert_exporter": "python",
   "pygments_lexer": "ipython3",
   "version": "3.9.6"
  }
 },
 "nbformat": 4,
 "nbformat_minor": 5
}
