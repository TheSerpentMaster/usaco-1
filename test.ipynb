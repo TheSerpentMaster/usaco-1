{
 "cells": [
  {
   "cell_type": "markdown",
   "id": "75b49b00",
   "metadata": {
    "vscode": {
     "languageId": "powershell"
    }
   },
   "source": [
    "*****\n",
    "*****\n",
    "Owner: Samuel Chen\n",
    "------------------------------\n",
    "\n",
    "This Python Notebook contains scripts currently in testing.\n",
    "\n",
    "------------------------------\n",
    "CREATE NEW CODE SNIPPETS FROM THIS CELL\n",
    "------------------------------\n",
    "SNIPPETS WILL BE DELETED 2 WEEKS AFTER CREATION ONCE FINISHED\n",
    "*****\n",
    "*****"
   ]
  },
  {
   "cell_type": "code",
   "execution_count": null,
   "id": "40110905",
   "metadata": {},
   "outputs": [],
   "source": []
  }
 ],
 "metadata": {
  "kernelspec": {
   "display_name": "Python 3",
   "language": "python",
   "name": "python3"
  },
  "language_info": {
   "codemirror_mode": {
    "name": "ipython",
    "version": 3
   },
   "file_extension": ".py",
   "mimetype": "text/x-python",
   "name": "python",
   "nbconvert_exporter": "python",
   "pygments_lexer": "ipython3",
   "version": "3.9.6"
  }
 },
 "nbformat": 4,
 "nbformat_minor": 5
}
