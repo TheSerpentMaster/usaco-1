{
 "cells": [
  {
   "cell_type": "markdown",
   "id": "75b49b00",
   "metadata": {
    "vscode": {
     "languageId": "powershell"
    }
   },
   "source": [
    "*****\n",
    "*****\n",
    "OWNER: Samuel Chen\n",
    "------------------------------\n",
    "\n",
    "This Python Notebook contains scripts currently in testing.\n",
    "\n",
    "------------------------------\n",
    "CREATE NEW CODE SNIPPETS FROM THIS NOTE\n",
    "------------------------------\n",
    "SNIPPETS WILL BE DELETED 2 WEEKS AFTER CREATION ONCE FINISHED\n",
    "*****\n",
    "*****"
   ]
  },
  {
   "cell_type": "code",
   "execution_count": null,
   "id": "029d7cc2",
   "metadata": {},
   "outputs": [],
   "source": [
    "#USACO 2024 February Bronze #1: Palindrome Game\n",
    "\n",
    "N = int(input())\n",
    "output = []\n",
    "\n",
    "for i in range(N):\n",
    "    in_ = int(input())\n",
    "\n",
    "    if in_ < 10:\n",
    "        output.append('B')\n",
    "    \n",
    "    elif in_ == 10:\n",
    "        output.append('E')\n",
    "    \n",
    "    else:\n",
    "        pass\n"
   ]
  },
  {
   "cell_type": "code",
   "execution_count": null,
   "id": "c0356093",
   "metadata": {},
   "outputs": [],
   "source": [
    "# USACO 2022 January Bronze #2: Cannonball\n",
    "!****************************************************!\n",
    "!****************************************************!\n",
    "!**'Has been moved to 2025/Classwork/Cannonball.py'**!\n",
    "!************'Finished: 2025 Aug. 14'****************!\n",
    "!****************************************************!\n",
    "!****************************************************!"
   ]
  },
  {
   "cell_type": "code",
   "execution_count": null,
   "id": "fc75cd33",
   "metadata": {},
   "outputs": [],
   "source": [
    "# USACO 2022 February US Open Bronze #1: Photoshoot\n",
    "\n",
    "!**************************************!\n",
    "!**************************************!\n",
    "!**'Has been moved to 2025/081325.py'**!\n",
    "!*******'Finished: 2025 Aug. 7'********!\n",
    "!**************************************!\n",
    "!**************************************!"
   ]
  },
  {
   "cell_type": "code",
   "execution_count": null,
   "id": "7a69d5e8",
   "metadata": {},
   "outputs": [],
   "source": [
    "# USACO 2020 January Bronze #3: Race\n",
    "\n",
    "!**********************************************!\n",
    "!**********************************************!\n",
    "!**'Has been moved to 2025/Classwork/Race.py'**!\n",
    "!***********'Finished: 2025 Aug. 5'************!\n",
    "!**********************************************!\n",
    "!**********************************************!"
   ]
  }
 ],
 "metadata": {
  "kernelspec": {
   "display_name": "Python 3",
   "language": "python",
   "name": "python3"
  },
  "language_info": {
   "codemirror_mode": {
    "name": "ipython",
    "version": 3
   },
   "file_extension": ".py",
   "mimetype": "text/x-python",
   "name": "python",
   "nbconvert_exporter": "python",
   "pygments_lexer": "ipython3",
   "version": "3.9.6"
  }
 },
 "nbformat": 4,
 "nbformat_minor": 5
}
