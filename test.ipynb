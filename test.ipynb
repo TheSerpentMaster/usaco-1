{
 "cells": [
  {
   "cell_type": "markdown",
   "id": "75b49b00",
   "metadata": {
    "vscode": {
     "languageId": "powershell"
    }
   },
   "source": [
    "*****\n",
    "*****\n",
    "Owner: Samuel Chen\n",
    "------------------------------\n",
    "\n",
    "This Python Notebook contains scripts currently in testing.\n",
    "\n",
    "------------------------------\n",
    "CREATE NEW CODE SNIPPETS FROM THIS CELL\n",
    "------------------------------\n",
    "SNIPPETS WILL BE DELETED 2 WEEKS AFTER CREATION ONCE FINISHED\n",
    "*****\n",
    "*****"
   ]
  },
  {
   "cell_type": "code",
   "execution_count": null,
   "id": "79865a1b",
   "metadata": {},
   "outputs": [],
   "source": [
    "# USACO 2020 December Contest Bronze #1: Do You Know Your ABCs?\n",
    "\n",
    "import math\n",
    "\n",
    "nums = list(set(input().split()))\n",
    "for i in range(len(nums)):\n",
    "    nums[i] = int(nums[i])\n",
    "nums.sort()\n",
    "#print(nums)\n",
    "\n",
    "ABC = nums[-1]\n",
    "\n",
    "if len(nums) == 3:\n",
    "    A = nums[0]\n",
    "    B = nums[0]\n",
    "    C = nums[0]\n",
    "\n",
    "elif len(nums) == 4:\n",
    "    factor = math.log(ABC, 2)\n",
    "    num = str(112 * (factor - 1))\n",
    "    A = num[0]\n",
    "    B = num[1]\n",
    "    C = num[2]\n",
    "\n",
    "elif len(nums) == 5:\n",
    "    A = ABC - nums[-2]\n",
    "    B = nums[-2] - nums[-3]\n",
    "    C = ABC - A - B\n",
    "\n",
    "elif len(nums) == 6:\n",
    "    A = nums[0]\n",
    "    B = nums[1]\n",
    "    C = A + B\n",
    "\n",
    "else:\n",
    "    A = ABC - nums[-2]\n",
    "    B = ABC - nums[-3]\n",
    "    C = ABC - A - B\n",
    "\n",
    "print(A, B, C)"
   ]
  }
 ],
 "metadata": {
  "kernelspec": {
   "display_name": "Python 3",
   "language": "python",
   "name": "python3"
  },
  "language_info": {
   "codemirror_mode": {
    "name": "ipython",
    "version": 3
   },
   "file_extension": ".py",
   "mimetype": "text/x-python",
   "name": "python",
   "nbconvert_exporter": "python",
   "pygments_lexer": "ipython3",
   "version": "3.9.6"
  }
 },
 "nbformat": 4,
 "nbformat_minor": 5
}
